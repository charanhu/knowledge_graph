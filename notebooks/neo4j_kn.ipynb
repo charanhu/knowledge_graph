{
 "cells": [
  {
   "cell_type": "code",
   "execution_count": 5,
   "metadata": {},
   "outputs": [
    {
     "ename": "SyntaxError",
     "evalue": "invalid syntax (1476325186.py, line 1)",
     "output_type": "error",
     "traceback": [
      "\u001b[0;36m  Cell \u001b[0;32mIn[5], line 1\u001b[0;36m\u001b[0m\n\u001b[0;31m    podman run \\\u001b[0m\n\u001b[0m           ^\u001b[0m\n\u001b[0;31mSyntaxError\u001b[0m\u001b[0;31m:\u001b[0m invalid syntax\n"
     ]
    }
   ],
   "source": [
    "podman run \\\n",
    "    --name neo4j \\\n",
    "    -p 7474:7474 -p 7687:7687 \\\n",
    "    -d \\\n",
    "    -e NEO4J_AUTH=neo4j/pleaseletmein \\\n",
    "    -e NEO4J_PLUGINS=\\[\\\"apoc\\\"\\]  \\\n",
    "    neo4j:latest"
   ]
  },
  {
   "cell_type": "code",
   "execution_count": null,
   "metadata": {},
   "outputs": [],
   "source": [
    "You are an expert in converting English questions to Neo4j Cypher Graph code! The Graph has following Node Labels - Movie, Person and the Movie Node label has the following properties released, tagline, title and the Graph has the following Relationship types ACTED_IN, DIRECTED, FOLLOWS, PRODUCED, REVIEWED, WROTE!\n",
    "\n",
    "All relationships ACTED_IN, DIRECTED, FOLLOWS, PRODUCED, REVIEWED, WROTE start from Person to Movie and not the other way around.\n",
    "\n",
    "For example,\n",
    "Example 1 - List down 5 movies that released after the year 2000, the Cypher command will be something like this\n",
    "``` MATCH (m:Movie)\n",
    "WHERE m.released > 2000\n",
    "RETURN m LIMIT 5\n",
    "```\n",
    "\n",
    "Example 2 - Get all the people who acted in a movie that was released after 2010.\n",
    "```\n",
    "MATCH (p:Person)-[r:ACTED_IN]-(m:Movie)\n",
    "WHERE m.released > 2010\n",
    "RETURN p,r,m\n",
    "```\n",
    "\n",
    "Example 3 - Name the Director of the movie The Matrix Reloaded?\n",
    "```\n",
    "MATCH (m:Movie)<-[:DIRECTED]-(p:Person)\n",
    "WHERE m.title = 'Apollo 13'\n",
    "RETURN p.name\n",
    "```\n",
    "\n",
    "Dont include ``` and \\n in the output"
   ]
  }
 ],
 "metadata": {
  "kernelspec": {
   "display_name": "venv",
   "language": "python",
   "name": "python3"
  },
  "language_info": {
   "codemirror_mode": {
    "name": "ipython",
    "version": 3
   },
   "file_extension": ".py",
   "mimetype": "text/x-python",
   "name": "python",
   "nbconvert_exporter": "python",
   "pygments_lexer": "ipython3",
   "version": "3.11.4"
  }
 },
 "nbformat": 4,
 "nbformat_minor": 2
}
