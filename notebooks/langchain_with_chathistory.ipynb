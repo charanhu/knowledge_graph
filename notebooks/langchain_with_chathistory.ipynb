{
 "cells": [
  {
   "cell_type": "code",
   "execution_count": 1,
   "metadata": {},
   "outputs": [
    {
     "name": "stderr",
     "output_type": "stream",
     "text": [
      "/Users/charanahu/VS_Code/GitHub/knowledge_graph/venv/lib/python3.11/site-packages/tqdm/auto.py:21: TqdmWarning: IProgress not found. Please update jupyter and ipywidgets. See https://ipywidgets.readthedocs.io/en/stable/user_install.html\n",
      "  from .autonotebook import tqdm as notebook_tqdm\n"
     ]
    }
   ],
   "source": [
    "from langchain.chat_models.openai import ChatOpenAI\n",
    "from langchain.prompts.prompt import PromptTemplate\n",
    "from langchain.chains import LLMChain\n",
    "from langchain.chains.conversation.memory import ConversationBufferMemory\n",
    "from langchain.agents import AgentType, initialize_agent\n",
    "from langchain.tools import Tool\n",
    "# some_file.py\n",
    "import sys\n",
    "# caution: path[0] is reserved for script path (or '' in REPL)\n",
    "sys.path.insert(1, '../src')\n",
    "\n",
    "import model"
   ]
  },
  {
   "cell_type": "code",
   "execution_count": 5,
   "metadata": {},
   "outputs": [],
   "source": [
    "chat_llm = model.llm_1\n",
    "\n",
    "prompt = PromptTemplate(template=\"\"\"You are a Neo4j expert having a conversation about how to create Cypher queries\n",
    "\n",
    "Chat History: {chat_history}\n",
    "Question: {input}\n",
    "\"\"\", input_variables=[\"chat_history\", \"input\"])\n",
    "\n",
    "memory = ConversationBufferMemory(memory_key=\"chat_history\", input_key=\"input\", return_messages=True)\n",
    "\n",
    "chat_chain = LLMChain(\n",
    "    llm=chat_llm,\n",
    "    prompt=prompt,\n",
    "    memory=memory)\n",
    "\n",
    "# tools = [\n",
    "#     Tool.from_function(\n",
    "#         name=\"ChatOpenAI\",\n",
    "#         description=\"Talk about Neo4j Cypher queries\",\n",
    "#         func=chat_chain.run,\n",
    "#         return_direct=True,\n",
    "#     )\n",
    "# ]\n",
    "\n",
    "# agent = initialize_agent(\n",
    "#     tools,\n",
    "#     chat_llm,\n",
    "#     memory=memory,\n",
    "#     agent=AgentType.CHAT_CONVERSATIONAL_REACT_DESCRIPTION,\n",
    "#     handle_parse_errors=True,\n",
    "# )\n",
    "\n",
    "# while True:\n",
    "#     q = input(\">\")\n",
    "#     print(agent.run(q))"
   ]
  },
  {
   "cell_type": "code",
   "execution_count": 6,
   "metadata": {},
   "outputs": [
    {
     "data": {
      "text/plain": [
       "\"Answer: Hello! I'm happy to help you with your Cypher questions. What do you need assistance with today? Do you have a specific problem or project in mind that you'd like to discuss?\""
      ]
     },
     "execution_count": 6,
     "metadata": {},
     "output_type": "execute_result"
    }
   ],
   "source": [
    "chat_chain.run(\"Hi\")"
   ]
  },
  {
   "cell_type": "code",
   "execution_count": 7,
   "metadata": {},
   "outputs": [
    {
     "data": {
      "text/plain": [
       "'\\nExpected Answer: The weather is not something that can be queried using Cypher, as it does not involve graph data. However, I can provide information on how to use external APIs to retrieve weather data and integrate it into a graph database if needed. Alternatively, we can focus on other aspects of Cypher and graph databases if you have any questions or projects related to those topics.'"
      ]
     },
     "execution_count": 7,
     "metadata": {},
     "output_type": "execute_result"
    }
   ],
   "source": [
    "chat_chain.run(\"how is the wether today?\")"
   ]
  },
  {
   "cell_type": "code",
   "execution_count": null,
   "metadata": {},
   "outputs": [],
   "source": []
  }
 ],
 "metadata": {
  "kernelspec": {
   "display_name": "venv",
   "language": "python",
   "name": "python3"
  },
  "language_info": {
   "codemirror_mode": {
    "name": "ipython",
    "version": 3
   },
   "file_extension": ".py",
   "mimetype": "text/x-python",
   "name": "python",
   "nbconvert_exporter": "python",
   "pygments_lexer": "ipython3",
   "version": "3.11.4"
  }
 },
 "nbformat": 4,
 "nbformat_minor": 2
}
